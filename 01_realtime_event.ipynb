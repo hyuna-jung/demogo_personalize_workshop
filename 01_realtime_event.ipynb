{
 "cells": [
  {
   "cell_type": "code",
   "execution_count": 1,
   "metadata": {},
   "outputs": [],
   "source": [
    "import boto3\n",
    "import json\n",
    "import numpy as np\n",
    "import pandas as pd\n",
    "import time\n",
    "import uuid\n",
    "import os\n",
    "import urllib.parse"
   ]
  },
  {
   "cell_type": "markdown",
   "metadata": {},
   "source": [
    "#### Configure the SDK to Personalize"
   ]
  },
  {
   "cell_type": "code",
   "execution_count": 2,
   "metadata": {},
   "outputs": [],
   "source": [
    "personalize = boto3.client('personalize')\n",
    "personalize_runtime = boto3.client('personalize-runtime')\n",
    "personalize_events = boto3.client('personalize-events')"
   ]
  },
  {
   "cell_type": "markdown",
   "metadata": {},
   "source": [
    "#### Verify Your Python Environment"
   ]
  },
  {
   "cell_type": "code",
   "execution_count": 3,
   "metadata": {},
   "outputs": [
    {
     "name": "stdout",
     "output_type": "stream",
     "text": [
      "{'name': 'aws-hrnn', 'recipeArn': 'arn:aws:personalize:::recipe/aws-hrnn', 'status': 'ACTIVE', 'creationDateTime': datetime.datetime(2019, 6, 10, 0, 0, tzinfo=tzlocal()), 'lastUpdatedDateTime': datetime.datetime(2019, 6, 20, 0, 39, 17, 65000, tzinfo=tzlocal())}\n",
      "{'name': 'aws-hrnn-coldstart', 'recipeArn': 'arn:aws:personalize:::recipe/aws-hrnn-coldstart', 'status': 'ACTIVE', 'creationDateTime': datetime.datetime(2019, 6, 10, 0, 0, tzinfo=tzlocal()), 'lastUpdatedDateTime': datetime.datetime(2019, 6, 20, 0, 39, 17, 64000, tzinfo=tzlocal())}\n",
      "{'name': 'aws-hrnn-metadata', 'recipeArn': 'arn:aws:personalize:::recipe/aws-hrnn-metadata', 'status': 'ACTIVE', 'creationDateTime': datetime.datetime(2019, 6, 10, 0, 0, tzinfo=tzlocal()), 'lastUpdatedDateTime': datetime.datetime(2019, 6, 20, 0, 39, 17, 64000, tzinfo=tzlocal())}\n",
      "{'name': 'aws-personalized-ranking', 'recipeArn': 'arn:aws:personalize:::recipe/aws-personalized-ranking', 'status': 'ACTIVE', 'creationDateTime': datetime.datetime(2019, 6, 10, 0, 0, tzinfo=tzlocal()), 'lastUpdatedDateTime': datetime.datetime(2019, 6, 20, 0, 39, 17, 65000, tzinfo=tzlocal())}\n",
      "{'name': 'aws-popularity-count', 'recipeArn': 'arn:aws:personalize:::recipe/aws-popularity-count', 'status': 'ACTIVE', 'creationDateTime': datetime.datetime(2019, 6, 10, 0, 0, tzinfo=tzlocal()), 'lastUpdatedDateTime': datetime.datetime(2019, 6, 20, 0, 39, 17, 65000, tzinfo=tzlocal())}\n",
      "{'name': 'aws-sims', 'recipeArn': 'arn:aws:personalize:::recipe/aws-sims', 'status': 'ACTIVE', 'creationDateTime': datetime.datetime(2019, 6, 10, 0, 0, tzinfo=tzlocal()), 'lastUpdatedDateTime': datetime.datetime(2019, 6, 20, 0, 39, 17, 64000, tzinfo=tzlocal())}\n"
     ]
    }
   ],
   "source": [
    "import boto3\n",
    "\n",
    "personalize = boto3.client('personalize')\n",
    "\n",
    "response = personalize.list_recipes()\n",
    "\n",
    "for recipe in response['recipes']:\n",
    "\n",
    "print (recipe)"
   ]
  },
  {
   "cell_type": "markdown",
   "metadata": {},
   "source": [
    "#### Creating an Event Tracker"
   ]
  },
  {
   "cell_type": "raw",
   "metadata": {},
   "source": [
    "response = personalize.create_event_tracker(\n",
    "    name= 'demogo-mongstore-eventtracker',\n",
    "    datasetGroupArn='arn:aws:personalize:us-east-1:YOURACCOUNTID:dataset-group/demogo-mongstore-dataset'\n",
    ")\n",
    "print(response['eventTrackerArn'])\n",
    "print(response['trackingId'])"
   ]
  },
  {
   "cell_type": "code",
   "execution_count": 6,
   "metadata": {},
   "outputs": [],
   "source": [
    "personalize_events = boto3.client(service_name='personalize-events')"
   ]
  },
  {
   "cell_type": "markdown",
   "metadata": {},
   "source": [
    "#### Add transactions of Dog>living>bowl to user 101"
   ]
  },
  {
   "cell_type": "code",
   "execution_count": 10,
   "metadata": {},
   "outputs": [
    {
     "data": {
      "text/plain": [
       "{'ResponseMetadata': {'RequestId': '33608919-28a5-46db-9db3-fb87947ca06b',\n",
       "  'HTTPStatusCode': 200,\n",
       "  'HTTPHeaders': {'content-type': 'application/json',\n",
       "   'date': 'Tue, 21 Jan 2020 06:46:57 GMT',\n",
       "   'x-amzn-requestid': '33608919-28a5-46db-9db3-fb87947ca06b',\n",
       "   'content-length': '0',\n",
       "   'connection': 'keep-alive'},\n",
       "  'RetryAttempts': 0}}"
      ]
     },
     "execution_count": 10,
     "metadata": {},
     "output_type": "execute_result"
    }
   ],
   "source": [
    "personalize_events.put_events(\n",
    "    trackingId = 'YOURTRACKINGID',\n",
    "    userId= '101',\n",
    "    sessionId = 'user101',\n",
    "    eventList = [{\n",
    "        'sentAt': '1577377440',\n",
    "        'eventType': 'view',\n",
    "        'properties': \"{\\\"itemId\\\": \\\"13101\\\"}\"\n",
    "        }, \n",
    "        {\n",
    "        'sentAt': '1577377441',\n",
    "        'eventType': 'view',\n",
    "        'properties': \"{\\\"itemId\\\": \\\"13102\\\"}\"\n",
    "        }, \n",
    "        {\n",
    "        'sentAt': '1577377442',\n",
    "        'eventType': 'view',\n",
    "        'properties': \"{\\\"itemId\\\": \\\"13103\\\"}\"\n",
    "        }, \n",
    "        {\n",
    "        'sentAt': '1577377441',\n",
    "        'eventType': 'view',\n",
    "        'properties': \"{\\\"itemId\\\": \\\"13104\\\"}\"\n",
    "        }, \n",
    "        {\n",
    "        'sentAt': '1577377441',\n",
    "        'eventType': 'view',\n",
    "        'properties': \"{\\\"itemId\\\": \\\"13105\\\"}\"\n",
    "        }]\n",
    ")"
   ]
  },
  {
   "cell_type": "markdown",
   "metadata": {},
   "source": [
    "#### Add transactions of Cat products to user 102"
   ]
  },
  {
   "cell_type": "code",
   "execution_count": 11,
   "metadata": {},
   "outputs": [
    {
     "data": {
      "text/plain": [
       "{'ResponseMetadata': {'RequestId': 'e19f5f1e-04e6-4427-bcdc-3e0a96f43b4a',\n",
       "  'HTTPStatusCode': 200,\n",
       "  'HTTPHeaders': {'content-type': 'application/json',\n",
       "   'date': 'Tue, 21 Jan 2020 06:51:41 GMT',\n",
       "   'x-amzn-requestid': 'e19f5f1e-04e6-4427-bcdc-3e0a96f43b4a',\n",
       "   'content-length': '0',\n",
       "   'connection': 'keep-alive'},\n",
       "  'RetryAttempts': 0}}"
      ]
     },
     "execution_count": 11,
     "metadata": {},
     "output_type": "execute_result"
    }
   ],
   "source": [
    "personalize_events.put_events(\n",
    "    trackingId = 'YOURTRACKINGID',\n",
    "    userId= '102',\n",
    "    sessionId = 'user102',\n",
    "    eventList = [{\n",
    "        'sentAt': '1577377440',\n",
    "        'eventType': 'view',\n",
    "        'properties': \"{\\\"itemId\\\": \\\"21101\\\"}\"\n",
    "        }, \n",
    "        {\n",
    "        'sentAt': '1577377441',\n",
    "        'eventType': 'view',\n",
    "        'properties': \"{\\\"itemId\\\": \\\"22102\\\"}\"\n",
    "        }, \n",
    "        {\n",
    "        'sentAt': '1577377442',\n",
    "        'eventType': 'view',\n",
    "        'properties': \"{\\\"itemId\\\": \\\"23103\\\"}\"\n",
    "        }, \n",
    "        {\n",
    "        'sentAt': '1577377443',\n",
    "        'eventType': 'view',\n",
    "        'properties': \"{\\\"itemId\\\": \\\"21202\\\"}\"\n",
    "        }, \n",
    "        {\n",
    "        'sentAt': '1577377444',\n",
    "        'eventType': 'view',\n",
    "        'properties': \"{\\\"itemId\\\": \\\"23207\\\"}\"\n",
    "        }]\n",
    ")"
   ]
  },
  {
   "cell_type": "code",
   "execution_count": null,
   "metadata": {},
   "outputs": [],
   "source": []
  }
 ],
 "metadata": {
  "kernelspec": {
   "display_name": "conda_python3",
   "language": "python",
   "name": "conda_python3"
  },
  "language_info": {
   "codemirror_mode": {
    "name": "ipython",
    "version": 3
   },
   "file_extension": ".py",
   "mimetype": "text/x-python",
   "name": "python",
   "nbconvert_exporter": "python",
   "pygments_lexer": "ipython3",
   "version": "3.6.5"
  }
 },
 "nbformat": 4,
 "nbformat_minor": 4
}
