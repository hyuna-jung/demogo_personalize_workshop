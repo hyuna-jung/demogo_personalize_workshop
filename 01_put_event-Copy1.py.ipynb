{
 "cells": [
  {
   "cell_type": "code",
   "execution_count": 21,
   "metadata": {},
   "outputs": [],
   "source": [
    "import boto3\n",
    "import json\n",
    "import numpy as np\n",
    "import pandas as pd\n",
    "import time\n",
    "import uuid\n",
    "import os\n",
    "import urllib.parse"
   ]
  },
  {
   "cell_type": "code",
   "execution_count": 22,
   "metadata": {},
   "outputs": [],
   "source": [
    "# Configure the SDK to Personalize\n",
    "personalize = boto3.client('personalize')\n",
    "personalize_runtime = boto3.client('personalize-runtime')\n",
    "personalize_events = boto3.client('personalize-events')"
   ]
  },
  {
   "cell_type": "code",
   "execution_count": 23,
   "metadata": {},
   "outputs": [],
   "source": [
    "# Verify Your Python Environment\n",
    "import boto3\n",
    "\n",
    "personalize = boto3.client('personalize')\n",
    "\n",
    "response = personalize.list_recipes()\n",
    "\n",
    "for recipe in response['recipes']:\n",
    "\n",
    "    print (recipe)"
   ]
  },
  {
   "cell_type": "code",
   "execution_count": 29,
   "metadata": {},
   "outputs": [
    {
     "name": "stdout",
     "output_type": "stream",
     "text": [
      "{'name': 'aws-hrnn', 'recipeArn': 'arn:aws:personalize:::recipe/aws-hrnn', 'status': 'ACTIVE', 'creationDateTime': datetime.datetime(2019, 6, 10, 0, 0, tzinfo=tzlocal()), 'lastUpdatedDateTime': datetime.datetime(2019, 6, 20, 0, 39, 17, 65000, tzinfo=tzlocal())}\n",
      "{'name': 'aws-hrnn-coldstart', 'recipeArn': 'arn:aws:personalize:::recipe/aws-hrnn-coldstart', 'status': 'ACTIVE', 'creationDateTime': datetime.datetime(2019, 6, 10, 0, 0, tzinfo=tzlocal()), 'lastUpdatedDateTime': datetime.datetime(2019, 6, 20, 0, 39, 17, 64000, tzinfo=tzlocal())}\n",
      "{'name': 'aws-hrnn-metadata', 'recipeArn': 'arn:aws:personalize:::recipe/aws-hrnn-metadata', 'status': 'ACTIVE', 'creationDateTime': datetime.datetime(2019, 6, 10, 0, 0, tzinfo=tzlocal()), 'lastUpdatedDateTime': datetime.datetime(2019, 6, 20, 0, 39, 17, 64000, tzinfo=tzlocal())}\n",
      "{'name': 'aws-personalized-ranking', 'recipeArn': 'arn:aws:personalize:::recipe/aws-personalized-ranking', 'status': 'ACTIVE', 'creationDateTime': datetime.datetime(2019, 6, 10, 0, 0, tzinfo=tzlocal()), 'lastUpdatedDateTime': datetime.datetime(2019, 6, 20, 0, 39, 17, 65000, tzinfo=tzlocal())}\n",
      "{'name': 'aws-popularity-count', 'recipeArn': 'arn:aws:personalize:::recipe/aws-popularity-count', 'status': 'ACTIVE', 'creationDateTime': datetime.datetime(2019, 6, 10, 0, 0, tzinfo=tzlocal()), 'lastUpdatedDateTime': datetime.datetime(2019, 6, 20, 0, 39, 17, 65000, tzinfo=tzlocal())}\n",
      "{'name': 'aws-sims', 'recipeArn': 'arn:aws:personalize:::recipe/aws-sims', 'status': 'ACTIVE', 'creationDateTime': datetime.datetime(2019, 6, 10, 0, 0, tzinfo=tzlocal()), 'lastUpdatedDateTime': datetime.datetime(2019, 6, 20, 0, 39, 17, 64000, tzinfo=tzlocal())}\n"
     ]
    }
   ],
   "source": [
    "# Creating an Event Tracker\n",
    "\n",
    "response = personalize.create_event_tracker(\n",
    "    name= 'mongstore-eventtracker',\n",
    "    datasetGroupArn='YOUR DATASET GROUP ARN'\n",
    ")\n",
    "print(response['eventTrackerArn'])\n",
    "print(response['trackingId'])"
   ]
  },
  {
   "cell_type": "code",
   "execution_count": 26,
   "metadata": {},
   "outputs": [
    {
     "ename": "KeyError",
     "evalue": "'eventTrackerArn'",
     "output_type": "error",
     "traceback": [
      "\u001b[0;31m---------------------------------------------------------------------------\u001b[0m",
      "\u001b[0;31mKeyError\u001b[0m                                  Traceback (most recent call last)",
      "\u001b[0;32m<ipython-input-26-ccbef2bebae3>\u001b[0m in \u001b[0;36m<module>\u001b[0;34m()\u001b[0m\n\u001b[1;32m      3\u001b[0m \u001b[0;31m#    datasetGroupArn='arn:aws:personalize:us-east-1:737083724826:dataset-group/demogo-pretest'\u001b[0m\u001b[0;34m\u001b[0m\u001b[0;34m\u001b[0m\u001b[0m\n\u001b[1;32m      4\u001b[0m \u001b[0;31m#)\u001b[0m\u001b[0;34m\u001b[0m\u001b[0;34m\u001b[0m\u001b[0m\n\u001b[0;32m----> 5\u001b[0;31m \u001b[0mprint\u001b[0m\u001b[0;34m(\u001b[0m\u001b[0mresponse\u001b[0m\u001b[0;34m[\u001b[0m\u001b[0;34m'eventTrackerArn'\u001b[0m\u001b[0;34m]\u001b[0m\u001b[0;34m)\u001b[0m\u001b[0;34m\u001b[0m\u001b[0m\n\u001b[0m\u001b[1;32m      6\u001b[0m \u001b[0mprint\u001b[0m\u001b[0;34m(\u001b[0m\u001b[0mresponse\u001b[0m\u001b[0;34m[\u001b[0m\u001b[0;34m'trackingId'\u001b[0m\u001b[0;34m]\u001b[0m\u001b[0;34m)\u001b[0m\u001b[0;34m\u001b[0m\u001b[0m\n",
      "\u001b[0;31mKeyError\u001b[0m: 'eventTrackerArn'"
     ]
    }
   ],
   "source": [
    "personalize_events = boto3.client(service_name='personalize-events')"
   ]
  },
  {
   "cell_type": "code",
   "execution_count": 28,
   "metadata": {},
   "outputs": [
    {
     "data": {
      "text/plain": [
       "{'ResponseMetadata': {'RequestId': '23fb1cd6-82d8-4ce5-b79c-863a7358f8e4',\n",
       "  'HTTPStatusCode': 200,\n",
       "  'HTTPHeaders': {'content-type': 'application/json',\n",
       "   'date': 'Thu, 26 Dec 2019 07:35:40 GMT',\n",
       "   'x-amzn-requestid': '23fb1cd6-82d8-4ce5-b79c-863a7358f8e4',\n",
       "   'content-length': '0',\n",
       "   'connection': 'keep-alive'},\n",
       "  'RetryAttempts': 0}}"
      ]
     },
     "execution_count": 28,
     "metadata": {},
     "output_type": "execute_result"
    }
   ],
   "source": [
    "personalize_events.put_events(\n",
    "    trackingId = '98e7e601-aa89-4347-8bb6-3c462b3ba959',\n",
    "    userId= '101',\n",
    "    sessionId = 'user101',\n",
    "    eventList = [{\n",
    "        'sentAt': '1577377440',\n",
    "        'eventType': 'view',\n",
    "        'properties': \"{\\\"itemId\\\": \\\"13101\\\"}\"\n",
    "        }, \n",
    "        {\n",
    "        'sentAt': '1577377441',\n",
    "        'eventType': 'view',\n",
    "        'properties': \"{\\\"itemId\\\": \\\"13102\\\"}\"\n",
    "        }, \n",
    "        {\n",
    "        'sentAt': '1577377442',\n",
    "        'eventType': 'view',\n",
    "        'properties': \"{\\\"itemId\\\": \\\"13103\\\"}\"\n",
    "        }, \n",
    "        {\n",
    "        'sentAt': '1577377441',\n",
    "        'eventType': 'view',\n",
    "        'properties': \"{\\\"itemId\\\": \\\"13104\\\"}\"\n",
    "        }, \n",
    "        {\n",
    "        'sentAt': '1577377441',\n",
    "        'eventType': 'view',\n",
    "        'properties': \"{\\\"itemId\\\": \\\"13105\\\"}\"\n",
    "        }]\n",
    ")"
   ]
  },
  {
   "cell_type": "code",
   "execution_count": 30,
   "metadata": {},
   "outputs": [
    {
     "data": {
      "text/plain": [
       "{'ResponseMetadata': {'RequestId': 'f028539a-233c-468d-9f06-c4002e40b41d',\n",
       "  'HTTPStatusCode': 200,\n",
       "  'HTTPHeaders': {'content-type': 'application/json',\n",
       "   'date': 'Thu, 26 Dec 2019 07:44:19 GMT',\n",
       "   'x-amzn-requestid': 'f028539a-233c-468d-9f06-c4002e40b41d',\n",
       "   'content-length': '0',\n",
       "   'connection': 'keep-alive'},\n",
       "  'RetryAttempts': 0}}"
      ]
     },
     "execution_count": 30,
     "metadata": {},
     "output_type": "execute_result"
    }
   ],
   "source": [
    "personalize_events.put_events(\n",
    "    trackingId = '98e7e601-aa89-4347-8bb6-3c462b3ba959',\n",
    "    userId= '102',\n",
    "    sessionId = 'user102',\n",
    "    eventList = [{\n",
    "        'sentAt': '1577377440',\n",
    "        'eventType': 'view',\n",
    "        'properties': \"{\\\"itemId\\\": \\\"14101\\\"}\"\n",
    "        }, \n",
    "        {\n",
    "        'sentAt': '1577377441',\n",
    "        'eventType': 'view',\n",
    "        'properties': \"{\\\"itemId\\\": \\\"14102\\\"}\"\n",
    "        }, \n",
    "        {\n",
    "        'sentAt': '1577377442',\n",
    "        'eventType': 'view',\n",
    "        'properties': \"{\\\"itemId\\\": \\\"14103\\\"}\"\n",
    "        }, \n",
    "        {\n",
    "        'sentAt': '1577377443',\n",
    "        'eventType': 'view',\n",
    "        'properties': \"{\\\"itemId\\\": \\\"14104\\\"}\"\n",
    "        }, \n",
    "        {\n",
    "        'sentAt': '1577377444',\n",
    "        'eventType': 'view',\n",
    "        'properties': \"{\\\"itemId\\\": \\\"14105\\\"}\"\n",
    "        }]\n",
    ")"
   ]
  },
  {
   "cell_type": "code",
   "execution_count": null,
   "metadata": {},
   "outputs": [],
   "source": []
  }
 ],
 "metadata": {
  "kernelspec": {
   "display_name": "conda_python3",
   "language": "python",
   "name": "conda_python3"
  },
  "language_info": {
   "codemirror_mode": {
    "name": "ipython",
    "version": 3
   },
   "file_extension": ".py",
   "mimetype": "text/x-python",
   "name": "python",
   "nbconvert_exporter": "python",
   "pygments_lexer": "ipython3",
   "version": "3.6.5"
  }
 },
 "nbformat": 4,
 "nbformat_minor": 2
}
