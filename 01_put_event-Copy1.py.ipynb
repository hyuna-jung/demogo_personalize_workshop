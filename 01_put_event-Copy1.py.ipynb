{
 "cells": [
  {
   "cell_type": "code",
   "execution_count": null,
   "metadata": {},
   "outputs": [],
   "source": [
    "import boto3\n",
    "import json\n",
    "import numpy as np\n",
    "import pandas as pd\n",
    "import time\n",
    "import uuid\n",
    "import os\n",
    "import urllib.parse"
   ]
  },
  {
   "cell_type": "code",
   "execution_count": null,
   "metadata": {},
   "outputs": [],
   "source": [
    "# Configure the SDK to Personalize\n",
    "personalize = boto3.client('personalize')\n",
    "personalize_runtime = boto3.client('personalize-runtime')\n",
    "personalize_events = boto3.client('personalize-events')"
   ]
  },
  {
   "cell_type": "code",
   "execution_count": null,
   "metadata": {},
   "outputs": [],
   "source": [
    "# Verify Your Python Environment\n",
    "import boto3\n",
    "\n",
    "personalize = boto3.client('personalize')\n",
    "\n",
    "response = personalize.list_recipes()\n",
    "\n",
    "for recipe in response['recipes']:\n",
    "\n",
    "    print (recipe)"
   ]
  },
  {
   "cell_type": "code",
   "execution_count": null,
   "metadata": {},
   "outputs": [],
   "source": [
    "# Creating an Event Tracker\n",
    "\n",
    "response = personalize.create_event_tracker(\n",
    "    name= 'mongstore-eventtracker',\n",
    "    datasetGroupArn='YOUR DATASET GROUP ARN'\n",
    ")\n",
    "print(response['eventTrackerArn'])\n",
    "print(response['trackingId'])"
   ]
  },
  {
   "cell_type": "code",
   "execution_count": null,
   "metadata": {},
   "outputs": [],
   "source": [
    "personalize_events = boto3.client(service_name='personalize-events')"
   ]
  },
  {
   "cell_type": "code",
   "execution_count": null,
   "metadata": {},
   "outputs": [],
   "source": [
    "personalize_events.put_events(\n",
    "    trackingId = '98e7e601-aa89-4347-8bb6-3c462b3ba959',\n",
    "    userId= '101',\n",
    "    sessionId = 'user101',\n",
    "    eventList = [{\n",
    "        'sentAt': '1577377440',\n",
    "        'eventType': 'view',\n",
    "        'properties': \"{\\\"itemId\\\": \\\"13101\\\"}\"\n",
    "        }, \n",
    "        {\n",
    "        'sentAt': '1577377441',\n",
    "        'eventType': 'view',\n",
    "        'properties': \"{\\\"itemId\\\": \\\"13102\\\"}\"\n",
    "        }, \n",
    "        {\n",
    "        'sentAt': '1577377442',\n",
    "        'eventType': 'view',\n",
    "        'properties': \"{\\\"itemId\\\": \\\"13103\\\"}\"\n",
    "        }, \n",
    "        {\n",
    "        'sentAt': '1577377441',\n",
    "        'eventType': 'view',\n",
    "        'properties': \"{\\\"itemId\\\": \\\"13104\\\"}\"\n",
    "        }, \n",
    "        {\n",
    "        'sentAt': '1577377441',\n",
    "        'eventType': 'view',\n",
    "        'properties': \"{\\\"itemId\\\": \\\"13105\\\"}\"\n",
    "        }]\n",
    ")"
   ]
  },
  {
   "cell_type": "code",
   "execution_count": null,
   "metadata": {},
   "outputs": [],
   "source": [
    "personalize_events.put_events(\n",
    "    trackingId = '98e7e601-aa89-4347-8bb6-3c462b3ba959',\n",
    "    userId= '102',\n",
    "    sessionId = 'user102',\n",
    "    eventList = [{\n",
    "        'sentAt': '1577377440',\n",
    "        'eventType': 'view',\n",
    "        'properties': \"{\\\"itemId\\\": \\\"14101\\\"}\"\n",
    "        }, \n",
    "        {\n",
    "        'sentAt': '1577377441',\n",
    "        'eventType': 'view',\n",
    "        'properties': \"{\\\"itemId\\\": \\\"14102\\\"}\"\n",
    "        }, \n",
    "        {\n",
    "        'sentAt': '1577377442',\n",
    "        'eventType': 'view',\n",
    "        'properties': \"{\\\"itemId\\\": \\\"14103\\\"}\"\n",
    "        }, \n",
    "        {\n",
    "        'sentAt': '1577377443',\n",
    "        'eventType': 'view',\n",
    "        'properties': \"{\\\"itemId\\\": \\\"14104\\\"}\"\n",
    "        }, \n",
    "        {\n",
    "        'sentAt': '1577377444',\n",
    "        'eventType': 'view',\n",
    "        'properties': \"{\\\"itemId\\\": \\\"14105\\\"}\"\n",
    "        }]\n",
    ")"
   ]
  },
  {
   "cell_type": "code",
   "execution_count": null,
   "metadata": {},
   "outputs": [],
   "source": []
  }
 ],
 "metadata": {
  "kernelspec": {
   "display_name": "conda_python3",
   "language": "python",
   "name": "conda_python3"
  },
  "language_info": {
   "codemirror_mode": {
    "name": "ipython",
    "version": 3
   },
   "file_extension": ".py",
   "mimetype": "text/x-python",
   "name": "python",
   "nbconvert_exporter": "python",
   "pygments_lexer": "ipython3",
   "version": "3.6.5"
  }
 },
 "nbformat": 4,
 "nbformat_minor": 2
}
